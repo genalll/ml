{
 "cells": [
  {
   "cell_type": "markdown",
   "id": "9eb009b5",
   "metadata": {},
   "source": [
    "## Пример использования машинного обучения. "
   ]
  },
  {
   "cell_type": "markdown",
   "id": "bc03dc6e",
   "metadata": {},
   "source": [
    "##### Задача, примитивная для своего понимания придумал, чтобы увязать метрики, размер обучающей выборки и результаты.\n",
    "\n",
    "* Имеем рандомный сет 3 столбца цыфры от 0 до 5, 4й столбец это сумма цифр.\n",
    "* Размер сета можно менять переменная set_lenght, это понадобиться когда будем учить модель.\n",
    "* Модель RandomForestClassifier ну вот понравилась она мне и была в проекте и тренажере, и работает.\n",
    "* Задача научить модель определять 4ю, цифру которая сумма."
   ]
  },
  {
   "cell_type": "markdown",
   "id": "227e93c8",
   "metadata": {},
   "source": [
    "### Библиотеки."
   ]
  },
  {
   "cell_type": "code",
   "execution_count": 1,
   "id": "87a9027e",
   "metadata": {},
   "outputs": [],
   "source": [
    "import pandas as pd\n",
    "from sklearn.model_selection import train_test_split\n",
    "from sklearn.linear_model import LogisticRegression\n",
    "from sklearn.metrics import accuracy_score, precision_score, recall_score, mean_squared_error, f1_score, roc_auc_score\n",
    "from sklearn.preprocessing import StandardScaler\n",
    "from sklearn.ensemble import RandomForestClassifier\n",
    "import numpy as np"
   ]
  },
  {
   "cell_type": "markdown",
   "id": "12dd092c",
   "metadata": {},
   "source": [
    "### Размер сета."
   ]
  },
  {
   "cell_type": "code",
   "execution_count": 2,
   "id": "fe99ffad",
   "metadata": {},
   "outputs": [],
   "source": [
    "set_lenght=300"
   ]
  },
  {
   "cell_type": "markdown",
   "id": "1b6df8fe",
   "metadata": {},
   "source": [
    "### Генератор сета  для обучения."
   ]
  },
  {
   "cell_type": "code",
   "execution_count": 3,
   "id": "8193e119",
   "metadata": {},
   "outputs": [
    {
     "data": {
      "text/html": [
       "<div>\n",
       "<style scoped>\n",
       "    .dataframe tbody tr th:only-of-type {\n",
       "        vertical-align: middle;\n",
       "    }\n",
       "\n",
       "    .dataframe tbody tr th {\n",
       "        vertical-align: top;\n",
       "    }\n",
       "\n",
       "    .dataframe thead th {\n",
       "        text-align: right;\n",
       "    }\n",
       "</style>\n",
       "<table border=\"1\" class=\"dataframe\">\n",
       "  <thead>\n",
       "    <tr style=\"text-align: right;\">\n",
       "      <th></th>\n",
       "      <th>A</th>\n",
       "      <th>B</th>\n",
       "      <th>C</th>\n",
       "    </tr>\n",
       "  </thead>\n",
       "  <tbody>\n",
       "    <tr>\n",
       "      <th>0</th>\n",
       "      <td>1</td>\n",
       "      <td>2</td>\n",
       "      <td>2</td>\n",
       "    </tr>\n",
       "    <tr>\n",
       "      <th>1</th>\n",
       "      <td>4</td>\n",
       "      <td>3</td>\n",
       "      <td>4</td>\n",
       "    </tr>\n",
       "    <tr>\n",
       "      <th>2</th>\n",
       "      <td>4</td>\n",
       "      <td>2</td>\n",
       "      <td>1</td>\n",
       "    </tr>\n",
       "    <tr>\n",
       "      <th>3</th>\n",
       "      <td>2</td>\n",
       "      <td>0</td>\n",
       "      <td>1</td>\n",
       "    </tr>\n",
       "    <tr>\n",
       "      <th>4</th>\n",
       "      <td>2</td>\n",
       "      <td>2</td>\n",
       "      <td>2</td>\n",
       "    </tr>\n",
       "    <tr>\n",
       "      <th>5</th>\n",
       "      <td>0</td>\n",
       "      <td>1</td>\n",
       "      <td>3</td>\n",
       "    </tr>\n",
       "    <tr>\n",
       "      <th>6</th>\n",
       "      <td>4</td>\n",
       "      <td>1</td>\n",
       "      <td>1</td>\n",
       "    </tr>\n",
       "    <tr>\n",
       "      <th>7</th>\n",
       "      <td>4</td>\n",
       "      <td>4</td>\n",
       "      <td>2</td>\n",
       "    </tr>\n",
       "    <tr>\n",
       "      <th>8</th>\n",
       "      <td>1</td>\n",
       "      <td>0</td>\n",
       "      <td>0</td>\n",
       "    </tr>\n",
       "    <tr>\n",
       "      <th>9</th>\n",
       "      <td>1</td>\n",
       "      <td>4</td>\n",
       "      <td>0</td>\n",
       "    </tr>\n",
       "  </tbody>\n",
       "</table>\n",
       "</div>"
      ],
      "text/plain": [
       "   A  B  C\n",
       "0  1  2  2\n",
       "1  4  3  4\n",
       "2  4  2  1\n",
       "3  2  0  1\n",
       "4  2  2  2\n",
       "5  0  1  3\n",
       "6  4  1  1\n",
       "7  4  4  2\n",
       "8  1  0  0\n",
       "9  1  4  0"
      ]
     },
     "execution_count": 3,
     "metadata": {},
     "output_type": "execute_result"
    }
   ],
   "source": [
    "df = pd.DataFrame(np.random.randint(0,5,size=(set_lenght, 3)), columns=list('ABC'))\n",
    "df.head(10)"
   ]
  },
  {
   "cell_type": "markdown",
   "id": "769568e0",
   "metadata": {},
   "source": [
    "### Добавим искомый столбец с суммой."
   ]
  },
  {
   "cell_type": "code",
   "execution_count": 4,
   "id": "f3b37b69",
   "metadata": {},
   "outputs": [
    {
     "data": {
      "text/html": [
       "<div>\n",
       "<style scoped>\n",
       "    .dataframe tbody tr th:only-of-type {\n",
       "        vertical-align: middle;\n",
       "    }\n",
       "\n",
       "    .dataframe tbody tr th {\n",
       "        vertical-align: top;\n",
       "    }\n",
       "\n",
       "    .dataframe thead th {\n",
       "        text-align: right;\n",
       "    }\n",
       "</style>\n",
       "<table border=\"1\" class=\"dataframe\">\n",
       "  <thead>\n",
       "    <tr style=\"text-align: right;\">\n",
       "      <th></th>\n",
       "      <th>A</th>\n",
       "      <th>B</th>\n",
       "      <th>C</th>\n",
       "      <th>D</th>\n",
       "    </tr>\n",
       "  </thead>\n",
       "  <tbody>\n",
       "    <tr>\n",
       "      <th>0</th>\n",
       "      <td>1</td>\n",
       "      <td>2</td>\n",
       "      <td>2</td>\n",
       "      <td>5</td>\n",
       "    </tr>\n",
       "    <tr>\n",
       "      <th>1</th>\n",
       "      <td>4</td>\n",
       "      <td>3</td>\n",
       "      <td>4</td>\n",
       "      <td>11</td>\n",
       "    </tr>\n",
       "    <tr>\n",
       "      <th>2</th>\n",
       "      <td>4</td>\n",
       "      <td>2</td>\n",
       "      <td>1</td>\n",
       "      <td>7</td>\n",
       "    </tr>\n",
       "    <tr>\n",
       "      <th>3</th>\n",
       "      <td>2</td>\n",
       "      <td>0</td>\n",
       "      <td>1</td>\n",
       "      <td>3</td>\n",
       "    </tr>\n",
       "    <tr>\n",
       "      <th>4</th>\n",
       "      <td>2</td>\n",
       "      <td>2</td>\n",
       "      <td>2</td>\n",
       "      <td>6</td>\n",
       "    </tr>\n",
       "    <tr>\n",
       "      <th>5</th>\n",
       "      <td>0</td>\n",
       "      <td>1</td>\n",
       "      <td>3</td>\n",
       "      <td>4</td>\n",
       "    </tr>\n",
       "    <tr>\n",
       "      <th>6</th>\n",
       "      <td>4</td>\n",
       "      <td>1</td>\n",
       "      <td>1</td>\n",
       "      <td>6</td>\n",
       "    </tr>\n",
       "    <tr>\n",
       "      <th>7</th>\n",
       "      <td>4</td>\n",
       "      <td>4</td>\n",
       "      <td>2</td>\n",
       "      <td>10</td>\n",
       "    </tr>\n",
       "    <tr>\n",
       "      <th>8</th>\n",
       "      <td>1</td>\n",
       "      <td>0</td>\n",
       "      <td>0</td>\n",
       "      <td>1</td>\n",
       "    </tr>\n",
       "    <tr>\n",
       "      <th>9</th>\n",
       "      <td>1</td>\n",
       "      <td>4</td>\n",
       "      <td>0</td>\n",
       "      <td>5</td>\n",
       "    </tr>\n",
       "  </tbody>\n",
       "</table>\n",
       "</div>"
      ],
      "text/plain": [
       "   A  B  C   D\n",
       "0  1  2  2   5\n",
       "1  4  3  4  11\n",
       "2  4  2  1   7\n",
       "3  2  0  1   3\n",
       "4  2  2  2   6\n",
       "5  0  1  3   4\n",
       "6  4  1  1   6\n",
       "7  4  4  2  10\n",
       "8  1  0  0   1\n",
       "9  1  4  0   5"
      ]
     },
     "execution_count": 4,
     "metadata": {},
     "output_type": "execute_result"
    }
   ],
   "source": [
    "df['D']=df['A']+df['B']+df['C']\n",
    "df.head(10)"
   ]
  },
  {
   "cell_type": "code",
   "execution_count": 5,
   "id": "16a553f7",
   "metadata": {},
   "outputs": [],
   "source": [
    "# разделим наши данные на признаки (матрица X) и целевую переменную (y)\n",
    "X = df.drop('D', axis = 1)\n",
    "y = df['D']\n",
    "\n",
    "# разделим модель на обучающую и валидационную выборку\n",
    "X_train, X_test, y_train, y_test = train_test_split(X, y, test_size=0.2, random_state=0)\n",
    "\n",
    "scaler = StandardScaler()\n",
    "scaler.fit(X_train)\n",
    "\n",
    "# Преобразуем обучающий и валидационные наборы данных\n",
    "X_train_st = scaler.transform(X_train)\n",
    "X_test_st = scaler.transform(X_test)\n",
    "# зададим алгоритм для нашей модели\n",
    "rf_model =  RandomForestClassifier(n_estimators = 100,random_state = 0) # Ваш код здесь\n",
    "# обучим модель случайного леса\n",
    "rf_model.fit(X_train, y_train)\n",
    "# воспользуемся уже обученной моделью, чтобы сделать прогнозы\n",
    "rf_predictions = rf_model.predict(X_test)\n",
    "rf_probabilities = rf_model.predict_proba(X_test)[:, 1]"
   ]
  },
  {
   "cell_type": "code",
   "execution_count": 6,
   "id": "d0492bf9",
   "metadata": {},
   "outputs": [
    {
     "name": "stdout",
     "output_type": "stream",
     "text": [
      "     A  B  C\n",
      "208  0  4  4\n",
      "188  2  1  1\n",
      "12   4  3  0\n",
      "221  1  2  3\n",
      "239  0  4  2\n",
      "136  2  2  3\n",
      "230  0  2  2\n",
      "206  0  2  1\n",
      "52   4  2  0\n",
      "108  2  4  4\n",
      "290  0  2  0\n",
      "15   1  3  0\n",
      "184  3  2  2\n",
      "248  3  4  0\n",
      "22   0  3  4\n",
      "74   2  0  4\n",
      "270  0  3  1\n",
      "90   3  2  0\n",
      "229  0  0  0\n",
      "164  3  4  1\n",
      "190  3  0  0\n",
      "103  2  4  4\n",
      "124  2  3  0\n",
      "129  0  0  1\n",
      "222  1  3  1\n",
      "116  0  0  3\n",
      "194  3  3  1\n",
      "286  2  2  1\n",
      "234  2  1  2\n",
      "295  2  4  1\n",
      "92   2  0  1\n",
      "66   3  2  4\n",
      "8    1  0  0\n",
      "122  0  1  4\n",
      "219  4  3  1\n",
      "150  3  0  0\n",
      "176  2  4  2\n",
      "182  1  1  0\n",
      "299  2  1  1\n",
      "5    0  1  3\n",
      "223  1  1  4\n",
      "89   1  1  2\n",
      "81   3  4  3\n",
      "34   4  1  1\n",
      "55   4  2  0\n",
      "139  1  3  1\n",
      "236  1  2  0\n",
      "64   1  0  2\n",
      "7    4  4  2\n",
      "45   3  0  4\n",
      "73   0  4  4\n",
      "213  4  0  1\n",
      "173  4  3  4\n",
      "106  1  1  2\n",
      "59   3  2  1\n",
      "253  3  4  2\n",
      "168  4  2  4\n",
      "26   0  0  2\n",
      "284  1  0  2\n",
      "153  4  2  3\n",
      "[ 8  4  7  6  5  7  3  3  7 10  2  4  7  7  7  6  4  5  0  8  3 10  5  1\n",
      "  5  4  7  4  5  7  3  9  1  5  7  3  8  1  4  4  5  4 10  6  7  5  4  3\n",
      " 10  8  8  5 11  4  6  9  9  3  3  9]\n"
     ]
    }
   ],
   "source": [
    "print(X_test)\n",
    "print(rf_predictions)"
   ]
  },
  {
   "cell_type": "markdown",
   "id": "39588985",
   "metadata": {},
   "source": [
    "#### Померием метрики которые более менее мне понятны и просто понравились."
   ]
  },
  {
   "cell_type": "code",
   "execution_count": 7,
   "id": "732804bb",
   "metadata": {},
   "outputs": [],
   "source": [
    "def print_all_metrics(y_true, y_pred, y_proba, title='Метрики классификации'):\n",
    "    print(title)\n",
    "    print('\\tAccuracy: {:.2f}'.format(accuracy_score(y_true, y_pred)))\n",
    "    print('\\tPrecision: {:.2f}'.format(precision_score(y_true, y_pred,pos_label='positive',\n",
    "                                           average='micro')))\n",
    "    print('\\tRecall: {:.2f}'.format(recall_score(y_true, y_pred,pos_label='positive',\n",
    "                                           average='micro')))"
   ]
  },
  {
   "cell_type": "code",
   "execution_count": 8,
   "id": "e649a466",
   "metadata": {},
   "outputs": [
    {
     "name": "stdout",
     "output_type": "stream",
     "text": [
      "Метрики для модели случайного леса:\n",
      "\tAccuracy: 0.78\n",
      "\tPrecision: 0.78\n",
      "\tRecall: 0.78\n"
     ]
    },
    {
     "name": "stderr",
     "output_type": "stream",
     "text": [
      "/home/gennalll/.local/lib/python3.8/site-packages/sklearn/metrics/_classification.py:1379: UserWarning: Note that pos_label (set to 'positive') is ignored when average != 'binary' (got 'micro'). You may use labels=[pos_label] to specify a single positive class.\n",
      "  warnings.warn(\n",
      "/home/gennalll/.local/lib/python3.8/site-packages/sklearn/metrics/_classification.py:1379: UserWarning: Note that pos_label (set to 'positive') is ignored when average != 'binary' (got 'micro'). You may use labels=[pos_label] to specify a single positive class.\n",
      "  warnings.warn(\n"
     ]
    }
   ],
   "source": [
    "print_all_metrics(\n",
    "   y_test, \n",
    "   rf_predictions,\n",
    "   rf_probabilities,\n",
    "   title='Метрики для модели случайного леса:'\n",
    ")"
   ]
  },
  {
   "cell_type": "markdown",
   "id": "41610876",
   "metadata": {},
   "source": [
    "### Проверим нашу модель в деле."
   ]
  },
  {
   "cell_type": "markdown",
   "id": "398f1d22",
   "metadata": {},
   "source": [
    "Генерируем сет для проверки."
   ]
  },
  {
   "cell_type": "code",
   "execution_count": 9,
   "id": "da1f316a",
   "metadata": {},
   "outputs": [
    {
     "data": {
      "text/html": [
       "<div>\n",
       "<style scoped>\n",
       "    .dataframe tbody tr th:only-of-type {\n",
       "        vertical-align: middle;\n",
       "    }\n",
       "\n",
       "    .dataframe tbody tr th {\n",
       "        vertical-align: top;\n",
       "    }\n",
       "\n",
       "    .dataframe thead th {\n",
       "        text-align: right;\n",
       "    }\n",
       "</style>\n",
       "<table border=\"1\" class=\"dataframe\">\n",
       "  <thead>\n",
       "    <tr style=\"text-align: right;\">\n",
       "      <th></th>\n",
       "      <th>A</th>\n",
       "      <th>B</th>\n",
       "      <th>C</th>\n",
       "    </tr>\n",
       "  </thead>\n",
       "  <tbody>\n",
       "    <tr>\n",
       "      <th>0</th>\n",
       "      <td>0</td>\n",
       "      <td>4</td>\n",
       "      <td>0</td>\n",
       "    </tr>\n",
       "    <tr>\n",
       "      <th>1</th>\n",
       "      <td>3</td>\n",
       "      <td>2</td>\n",
       "      <td>2</td>\n",
       "    </tr>\n",
       "    <tr>\n",
       "      <th>2</th>\n",
       "      <td>0</td>\n",
       "      <td>3</td>\n",
       "      <td>2</td>\n",
       "    </tr>\n",
       "    <tr>\n",
       "      <th>3</th>\n",
       "      <td>3</td>\n",
       "      <td>3</td>\n",
       "      <td>3</td>\n",
       "    </tr>\n",
       "    <tr>\n",
       "      <th>4</th>\n",
       "      <td>1</td>\n",
       "      <td>1</td>\n",
       "      <td>3</td>\n",
       "    </tr>\n",
       "    <tr>\n",
       "      <th>5</th>\n",
       "      <td>4</td>\n",
       "      <td>3</td>\n",
       "      <td>2</td>\n",
       "    </tr>\n",
       "    <tr>\n",
       "      <th>6</th>\n",
       "      <td>2</td>\n",
       "      <td>0</td>\n",
       "      <td>2</td>\n",
       "    </tr>\n",
       "    <tr>\n",
       "      <th>7</th>\n",
       "      <td>2</td>\n",
       "      <td>3</td>\n",
       "      <td>3</td>\n",
       "    </tr>\n",
       "    <tr>\n",
       "      <th>8</th>\n",
       "      <td>0</td>\n",
       "      <td>2</td>\n",
       "      <td>1</td>\n",
       "    </tr>\n",
       "    <tr>\n",
       "      <th>9</th>\n",
       "      <td>3</td>\n",
       "      <td>2</td>\n",
       "      <td>3</td>\n",
       "    </tr>\n",
       "  </tbody>\n",
       "</table>\n",
       "</div>"
      ],
      "text/plain": [
       "   A  B  C\n",
       "0  0  4  0\n",
       "1  3  2  2\n",
       "2  0  3  2\n",
       "3  3  3  3\n",
       "4  1  1  3\n",
       "5  4  3  2\n",
       "6  2  0  2\n",
       "7  2  3  3\n",
       "8  0  2  1\n",
       "9  3  2  3"
      ]
     },
     "execution_count": 9,
     "metadata": {},
     "output_type": "execute_result"
    }
   ],
   "source": [
    "df_kontrol = pd.DataFrame(np.random.randint(0,5,size=(set_lenght, 3)), columns=list('ABC'))\n",
    "df_kontrol.head(10)"
   ]
  },
  {
   "cell_type": "markdown",
   "id": "c94eea74",
   "metadata": {},
   "source": [
    "Генируем вектор для нашего контрольного сета."
   ]
  },
  {
   "cell_type": "code",
   "execution_count": 10,
   "id": "9e2ab0c6",
   "metadata": {},
   "outputs": [
    {
     "data": {
      "text/plain": [
       "array([ 4,  7,  5,  8,  5,  9,  4,  8,  3,  8,  7,  6,  4,  8,  8,  4,  3,\n",
       "        2,  3,  2,  5,  6, 10,  6,  4,  6,  9,  5,  5,  7,  9,  1,  9,  9,\n",
       "        8,  1,  9,  6,  5,  9,  4,  6,  7,  8,  5, 11,  9,  2,  9,  6,  4,\n",
       "        7,  4,  3,  2,  7,  9,  4,  7,  4,  2,  3,  9, 12,  7,  5,  1,  6,\n",
       "        8,  6,  7,  8,  8,  6,  7,  5,  8,  7,  7,  4,  8,  4,  5,  7,  9,\n",
       "        8,  6,  7,  8,  8,  4,  6,  7,  3,  7,  9,  8, 12,  7,  7,  5,  7,\n",
       "        5,  0,  5, 11,  6,  5,  8, 11,  7,  5,  9,  8,  3,  7, 10,  5,  3,\n",
       "       10,  2,  8,  5,  8,  6,  7,  5,  6, 12,  9,  4,  7,  6,  3,  3,  3,\n",
       "        5,  3,  4,  4,  8,  9,  4,  4,  2,  6,  4,  4,  9,  5,  5, 10,  5,\n",
       "        7,  4,  6,  8,  4,  8,  8,  5,  6,  3,  5, 10,  7,  7,  6,  1,  5,\n",
       "        6, 10,  3,  7,  3,  9,  7,  3,  4,  5,  8,  4,  3,  6,  1,  7,  6,\n",
       "        5, 12,  8,  6,  7,  8,  7,  1,  5,  4,  3,  6,  5,  3,  3,  6,  6,\n",
       "        5,  9,  1,  5,  7,  6,  4,  4,  5,  7,  3,  3,  5,  7,  9,  2,  8,\n",
       "        7,  8,  7,  7,  8,  5, 10,  5, 11,  7,  4,  8,  5,  6,  5,  8,  5,\n",
       "        8,  4,  9,  3,  0,  3,  6, 10,  8,  3,  9,  5,  2,  8,  7,  4,  3,\n",
       "        5, 10,  3,  9,  1,  7,  5,  4,  3,  7,  6,  6,  7,  7,  3,  7,  5,\n",
       "        9,  4,  1,  6,  8,  5,  7,  5,  4,  9,  5,  8,  8,  2,  5,  3,  8,\n",
       "        8,  8,  4, 10,  9,  9,  1,  7,  3,  4,  6])"
      ]
     },
     "execution_count": 10,
     "metadata": {},
     "output_type": "execute_result"
    }
   ],
   "source": [
    "rf_model.predict(df_kontrol)"
   ]
  },
  {
   "cell_type": "markdown",
   "id": "ed601fdb",
   "metadata": {},
   "source": [
    "### Почти не ошибаеться видно что сумы нарисованы правильно !!!!!!\n",
    "\n",
    "Если поиграть с значением set_lenght. Можно получать низкие и высокие метрики, и видно как на низких наша чудо модель ошибаеться, а на высоких отвечает правильно.\n",
    "\n",
    "### Я счастлив!"
   ]
  }
 ],
 "metadata": {
  "kernelspec": {
   "display_name": "Python 3 (ipykernel)",
   "language": "python",
   "name": "python3"
  },
  "language_info": {
   "codemirror_mode": {
    "name": "ipython",
    "version": 3
   },
   "file_extension": ".py",
   "mimetype": "text/x-python",
   "name": "python",
   "nbconvert_exporter": "python",
   "pygments_lexer": "ipython3",
   "version": "3.8.10"
  }
 },
 "nbformat": 4,
 "nbformat_minor": 5
}
